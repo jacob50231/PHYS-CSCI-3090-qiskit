{
 "cells": [
  {
   "cell_type": "markdown",
   "id": "bizarre-gentleman",
   "metadata": {},
   "source": [
    "## The Problem"
   ]
  },
  {
   "cell_type": "markdown",
   "id": "about-costa",
   "metadata": {},
   "source": [
    "We are given a function $f: \\{0,1\\}^n\\rightarrow\\{0,1\\}$, s.t. $f(x) = s\\cdot x\\mod2$, and want to find the hidden bit-string $s$"
   ]
  },
  {
   "cell_type": "markdown",
   "id": "educational-manufacturer",
   "metadata": {},
   "source": [
    "Classically, we would need to enter every basis state $( 100...0, 010...0,...,000...1)$ which requires $n$ queries."
   ]
  },
  {
   "cell_type": "markdown",
   "id": "complete-michael",
   "metadata": {},
   "source": [
    "## The Algorithm"
   ]
  },
  {
   "cell_type": "markdown",
   "id": "presidential-artwork",
   "metadata": {},
   "source": [
    "<img src=\"https://qiskit.org/textbook/ch-algorithms/images/bv1.svg\" width=\"300\">"
   ]
  },
  {
   "cell_type": "markdown",
   "id": "italic-indonesian",
   "metadata": {},
   "source": [
    "1. Initialize input qubits to $|0\\rangle^{\\otimes n}$ and the output bit to $|-\\rangle$\n",
    "2. Apply $H^{\\otimes n}$ to the input register\n",
    "3. Query the oracle\n",
    "4. Apply $H^{\\otimes n}$ to the input register\n",
    "5. Measure the input register"
   ]
  },
  {
   "cell_type": "markdown",
   "id": "unlikely-pearl",
   "metadata": {},
   "source": [
    "## Qiskit Implementation"
   ]
  },
  {
   "cell_type": "code",
   "execution_count": 1,
   "id": "pediatric-diary",
   "metadata": {},
   "outputs": [],
   "source": [
    "# initialization\n",
    "import matplotlib.pyplot as plt\n",
    "import numpy as np\n",
    "\n",
    "# importing Qiskit\n",
    "from qiskit import IBMQ, Aer\n",
    "from qiskit.providers.ibmq import least_busy\n",
    "from qiskit import QuantumCircuit, ClassicalRegister, QuantumRegister, transpile, assemble\n",
    "\n",
    "# import basic plot tools\n",
    "from qiskit.visualization import plot_histogram\n",
    "\n",
    "# array as latex\n",
    "from qiskit_textbook.tools import array_to_latex"
   ]
  },
  {
   "cell_type": "markdown",
   "id": "israeli-stuff",
   "metadata": {},
   "source": [
    "Set up the problem with 3 qubits and hidden bitstring $s = 011$"
   ]
  },
  {
   "cell_type": "code",
   "execution_count": 13,
   "id": "mental-attachment",
   "metadata": {},
   "outputs": [],
   "source": [
    "n = 3 # number of qubits used to represent s\n",
    "s = '011'   # the hidden binary string"
   ]
  },
  {
   "cell_type": "markdown",
   "id": "controlled-fever",
   "metadata": {},
   "source": [
    "Bernstein-Vazirani Implemented Below"
   ]
  },
  {
   "cell_type": "code",
   "execution_count": 27,
   "id": "known-christmas",
   "metadata": {
    "scrolled": true
   },
   "outputs": [
    {
     "data": {
      "image/png": "[encoded data removed]",
      "text/plain": [
       "<Figure size 748.797x325.08 with 1 Axes>"
      ]
     },
     "execution_count": 27,
     "metadata": {},
     "output_type": "execute_result"
    }
   ],
   "source": [
    "# We need a circuit with n qubits, plus one auxiliary qubit\n",
    "# Also need n classical bits to write the output to\n",
    "bv_circuit = QuantumCircuit(n+1, n)\n",
    "\n",
    "# put auxiliary in state |->\n",
    "bv_circuit.x(n)\n",
    "bv_circuit.h(n)\n",
    "#bv_circuit.z(n)\n",
    "\n",
    "# Apply Hadamard gates before querying the oracle\n",
    "for i in range(n):\n",
    "    bv_circuit.h(i)\n",
    "    \n",
    "# Apply barrier \n",
    "bv_circuit.barrier()\n",
    "\n",
    "# Apply the inner-product oracle\n",
    "s = '011'\n",
    "s = s[::-1] # reverse s to fit qiskit's qubit ordering\n",
    "for q in range(n):\n",
    "    if s[q] == '0':\n",
    "        bv_circuit.i(q)\n",
    "    else:\n",
    "        bv_circuit.cx(q , n)\n",
    "        \n",
    "# Apply barrier \n",
    "bv_circuit.barrier()\n",
    "\n",
    "#Apply Hadamard gates after querying the oracle\n",
    "for i in range(n):\n",
    "    bv_circuit.h(i)\n",
    "\n",
    "# Measurement\n",
    "for i in range(n):\n",
    "    bv_circuit.measure(i, i)\n",
    "\n",
    "bv_circuit.draw(output='mpl')"
   ]
  },
  {
   "cell_type": "markdown",
   "id": "defined-upset",
   "metadata": {},
   "source": [
    "The oracle above utilizes the fact that the CNOT gate with a $|-\\rangle$ in the second register adds a phase shift"
   ]
  },
  {
   "cell_type": "code",
   "execution_count": 28,
   "id": "minimal-chemical",
   "metadata": {},
   "outputs": [
    {
     "data": {
      "image/png": "[encoded data removed]",
      "text/plain": [
       "<Figure size 504x360 with 1 Axes>"
      ]
     },
     "execution_count": 28,
     "metadata": {},
     "output_type": "execute_result"
    }
   ],
   "source": [
    "# use local simulator\n",
    "qasm_sim = Aer.get_backend('qasm_simulator')\n",
    "shots = 1024\n",
    "qobj = assemble(bv_circuit)\n",
    "results = qasm_sim.run(qobj).result()\n",
    "answer = results.get_counts()\n",
    "\n",
    "plot_histogram(answer)\n"
   ]
  },
  {
   "cell_type": "code",
   "execution_count": null,
   "id": "comparable-purse",
   "metadata": {},
   "outputs": [],
   "source": []
  },
  {
   "cell_type": "code",
   "execution_count": null,
   "id": "local-leather",
   "metadata": {},
   "outputs": [],
   "source": []
  },
  {
   "cell_type": "code",
   "execution_count": null,
   "id": "about-stephen",
   "metadata": {},
   "outputs": [],
   "source": []
  },
  {
   "cell_type": "markdown",
   "id": "acute-yemen",
   "metadata": {},
   "source": [
    "### Run on real quantum device"
   ]
  },
  {
   "cell_type": "code",
   "execution_count": 6,
   "id": "sealed-preview",
   "metadata": {},
   "outputs": [
    {
     "name": "stderr",
     "output_type": "stream",
     "text": [
      "/opt/anaconda3/envs/Quantum_Computing/lib/python3.9/site-packages/qiskit/providers/ibmq/ibmqfactory.py:109: UserWarning: Timestamps in IBMQ backend properties, jobs, and job results are all now in local time instead of UTC.\n",
      "  warnings.warn('Timestamps in IBMQ backend properties, jobs, and job results '\n"
     ]
    },
    {
     "name": "stdout",
     "output_type": "stream",
     "text": [
      "least busy backend:  ibmq_belem\n"
     ]
    }
   ],
   "source": [
    "# Load our saved IBMQ accounts and get the least busy backend device with less than or equal to 5 qubits\n",
    "IBMQ.load_account()\n",
    "provider = IBMQ.get_provider(hub='ibm-q')\n",
    "provider.backends()\n",
    "backend = least_busy(provider.backends(filters=lambda x: x.configuration().n_qubits <= 5 and\n",
    "                                   x.configuration().n_qubits >= 2 and\n",
    "                                   not x.configuration().simulator and x.status().operational==True))\n",
    "print(\"least busy backend: \", backend)\n"
   ]
  },
  {
   "cell_type": "code",
   "execution_count": 7,
   "id": "adapted-particular",
   "metadata": {},
   "outputs": [
    {
     "name": "stdout",
     "output_type": "stream",
     "text": [
      "Job Status: job has successfully run\n"
     ]
    }
   ],
   "source": [
    "# Run our circuit on the least busy backend. Monitor the execution of the job in the queue\n",
    "from qiskit.tools.monitor import job_monitor\n",
    "\n",
    "shots = 1024\n",
    "transpiled_bv_circuit = transpile(bv_circuit, backend)\n",
    "qobj = assemble(transpiled_bv_circuit, shots=shots)\n",
    "job = backend.run(qobj)\n",
    "\n",
    "job_monitor(job, interval=2)\n"
   ]
  },
  {
   "cell_type": "code",
   "execution_count": 8,
   "id": "unlikely-maintenance",
   "metadata": {},
   "outputs": [
    {
     "data": {
      "image/png": "[encoded data removed]",
      "text/plain": [
       "<Figure size 504x360 with 1 Axes>"
      ]
     },
     "execution_count": 8,
     "metadata": {},
     "output_type": "execute_result"
    }
   ],
   "source": [
    "# Get the results from the computation\n",
    "results = job.result()\n",
    "answer = results.get_counts()\n",
    "\n",
    "plot_histogram(answer)\n"
   ]
  }
 ],
 "metadata": {
  "kernelspec": {
   "display_name": "Python 3",
   "language": "python",
   "name": "python3"
  },
  "language_info": {
   "codemirror_mode": {
    "name": "ipython",
    "version": 3
   },
   "file_extension": ".py",
   "mimetype": "text/x-python",
   "name": "python",
   "nbconvert_exporter": "python",
   "pygments_lexer": "ipython3",
   "version": "3.9.1"
  }
 },
 "nbformat": 4,
 "nbformat_minor": 5
}
