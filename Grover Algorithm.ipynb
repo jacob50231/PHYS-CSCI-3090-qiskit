{
 "cells": [
  {
   "cell_type": "markdown",
   "id": "moved-pearl",
   "metadata": {},
   "source": [
    "## Grover's Search Problem\n",
    "Grover's algorithm allows for quadratic speedup for unstructured search problem."
   ]
  },
  {
   "cell_type": "markdown",
   "id": "efficient-safety",
   "metadata": {},
   "source": [
    "## The Algorithm\n",
    "1. Prepare a uniform superposition of basis states\n",
    "$$|\\phi\\rangle = H^{\\otimes n}|0\\rangle_n $$\n",
    "2. Apply the grover oracle $ V $ to the state. This geometrically corresponds to a reflection about $ |\\phi'\\rangle $\n",
    "3. Apply grover diffusion operator $W$:\n",
    "$$ W = 2|\\phi\\rangle\\langle\\phi| - I$$\n",
    "4. Repeat steps 2 and 3 approximately $ \\sqrt N $ times. If there are $ M>1 $ marked item than repeat approximately $ \\sqrt{N/M} $ times"
   ]
  },
  {
   "cell_type": "markdown",
   "id": "matched-softball",
   "metadata": {},
   "source": [
    "## Grover's  Algorithm Implement in qiskit"
   ]
  },
  {
   "cell_type": "code",
   "execution_count": 37,
   "id": "legislative-renaissance",
   "metadata": {},
   "outputs": [],
   "source": [
    "#initialization\n",
    "import matplotlib.pyplot as plt\n",
    "import numpy as np\n",
    "\n",
    "# importing Qiskit\n",
    "from qiskit import IBMQ, Aer, assemble, transpile\n",
    "from qiskit import QuantumCircuit, ClassicalRegister, QuantumRegister\n",
    "from qiskit.providers.ibmq import least_busy\n",
    "\n",
    "# import basic plot tools\n",
    "from qiskit.visualization import plot_histogram"
   ]
  },
  {
   "cell_type": "code",
   "execution_count": 42,
   "id": "prompt-albania",
   "metadata": {},
   "outputs": [
    {
     "data": {
      "image/png": "[encoded data removed]",
      "text/plain": [
       "<Figure size 447.652x144.48 with 1 Axes>"
      ]
     },
     "execution_count": 42,
     "metadata": {},
     "output_type": "execute_result"
    }
   ],
   "source": [
    "# Initialize 2 bit quantum circuit\n",
    "n = 2\n",
    "grover_circuit = QuantumCircuit(n)\n",
    "\n",
    "# Hadamard Gates on Inputs\n",
    "grover_circuit.h(0)\n",
    "grover_circuit.h(1)\n",
    "\n",
    "# Oracle\n",
    "grover_circuit.cz(0,1)\n",
    "\n",
    "# Diffusion operator (U_s) \n",
    "grover_circuit.h([0,1])\n",
    "grover_circuit.z([0,1])\n",
    "grover_circuit.cz(0,1)\n",
    "grover_circuit.h([0,1])\n",
    "grover_circuit.draw(output = 'mpl')\n",
    "\n",
    "# Grover's algorithm for N=2 only requires one amplification stage"
   ]
  },
  {
   "cell_type": "markdown",
   "id": "opposed-afghanistan",
   "metadata": {},
   "source": [
    "#### Simulate measurements locally using qiskit "
   ]
  },
  {
   "cell_type": "code",
   "execution_count": 43,
   "id": "neither-provincial",
   "metadata": {},
   "outputs": [
    {
     "data": {
      "image/png": "[encoded data removed]",
      "text/plain": [
       "<Figure size 504x360 with 1 Axes>"
      ]
     },
     "execution_count": 43,
     "metadata": {},
     "output_type": "execute_result"
    }
   ],
   "source": [
    "grover_circuit.measure_all() # Add measurement layer to function\n",
    "\n",
    "qasm_sim = Aer.get_backend('qasm_simulator') # Get qasm simulator\n",
    "qobj = assemble(grover_circuit) # Prepare circuit for simulation\n",
    "result = qasm_sim.run(qobj).result() # Get results of simulation\n",
    "counts = result.get_counts() # Get the counts of each measurement from these resul†ß\n",
    "plot_histogram(counts) \n"
   ]
  },
  {
   "cell_type": "markdown",
   "id": "overall-bradford",
   "metadata": {},
   "source": [
    "### Run on a real device"
   ]
  },
  {
   "cell_type": "code",
   "execution_count": 22,
   "id": "frozen-dallas",
   "metadata": {},
   "outputs": [
    {
     "name": "stderr",
     "output_type": "stream",
     "text": [
      "ibmqfactory.load_account:WARNING:2021-03-29 18:08:59,909: Credentials are already in use. The existing account in the session will be replaced.\n"
     ]
    },
    {
     "name": "stdout",
     "output_type": "stream",
     "text": [
      "Running on current least busy device:  ibmqx2\n"
     ]
    }
   ],
   "source": [
    "# Load IBM Q account and get the least busy backend device\n",
    "provider = IBMQ.load_account()\n",
    "provider = IBMQ.get_provider(\"ibm-q\")\n",
    "device = least_busy(provider.backends(filters=lambda x: x.configuration().n_qubits >= 3 and \n",
    "                                   not x.configuration().simulator and x.status().operational==True))\n",
    "print(\"Running on current least busy device: \", device)"
   ]
  },
  {
   "cell_type": "code",
   "execution_count": 23,
   "id": "featured-marriage",
   "metadata": {},
   "outputs": [
    {
     "name": "stdout",
     "output_type": "stream",
     "text": [
      "Job Status: job has successfully run\n"
     ]
    }
   ],
   "source": [
    "# Run our circuit on the least busy backend. Monitor the execution of the job in the queue\n",
    "from qiskit.tools.monitor import job_monitor\n",
    "transpiled_grover_circuit = transpile(grover_circuit, device, optimization_level=3)\n",
    "qobj = assemble(transpiled_grover_circuit)\n",
    "job = device.run(qobj)\n",
    "job_monitor(job, interval=2)"
   ]
  },
  {
   "cell_type": "code",
   "execution_count": 24,
   "id": "endangered-objective",
   "metadata": {},
   "outputs": [
    {
     "data": {
      "image/png": "[encoded data removed]",
      "text/plain": [
       "<Figure size 504x360 with 1 Axes>"
      ]
     },
     "execution_count": 24,
     "metadata": {},
     "output_type": "execute_result"
    }
   ],
   "source": [
    "# Get the results from the computation\n",
    "results = job.result()\n",
    "answer = results.get_counts(grover_circuit)\n",
    "plot_histogram(answer)"
   ]
  },
  {
   "cell_type": "code",
   "execution_count": null,
   "id": "eastern-drink",
   "metadata": {},
   "outputs": [],
   "source": []
  }
 ],
 "metadata": {
  "kernelspec": {
   "display_name": "Python 3",
   "language": "python",
   "name": "python3"
  },
  "language_info": {
   "codemirror_mode": {
    "name": "ipython",
    "version": 3
   },
   "file_extension": ".py",
   "mimetype": "text/x-python",
   "name": "python",
   "nbconvert_exporter": "python",
   "pygments_lexer": "ipython3",
   "version": "3.9.1"
  }
 },
 "nbformat": 4,
 "nbformat_minor": 5
}
